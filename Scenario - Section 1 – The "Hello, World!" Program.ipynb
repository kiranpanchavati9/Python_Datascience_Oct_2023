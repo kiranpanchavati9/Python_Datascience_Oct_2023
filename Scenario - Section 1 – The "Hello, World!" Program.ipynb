{
 "cells": [
  {
   "cell_type": "markdown",
   "id": "d4616901",
   "metadata": {},
   "source": [
    "# Scenario"
   ]
  },
  {
   "cell_type": "markdown",
   "id": "9e16f97c",
   "metadata": {},
   "source": [
    "The print() command, which is one of the easiest directives in Python, simply prints out a line to the screen.\n",
    "\n",
    "In your first lab:\n",
    "\n",
    "Use the print() function to print the line Hello, Python! to the screen. Use double quotes around the string.\n",
    "Having done that, use the print() function again, but this time print your first name.\n",
    "Remove the double quotes and run your code. Watch Python's reaction. What kind of error is thrown?\n",
    "Then, remove the parentheses, put back the double quotes, and run your code again. What kind of error is thrown this time?\n",
    "Experiment as much as you can. Change double quotes to single quotes, use multiple print() functions on the same line, and then on different lines. See what happens."
   ]
  },
  {
   "cell_type": "code",
   "execution_count": 1,
   "id": "f4493113",
   "metadata": {},
   "outputs": [
    {
     "name": "stdout",
     "output_type": "stream",
     "text": [
      "Hello, Python!\n"
     ]
    }
   ],
   "source": [
    "print(\"Hello, Python!\")"
   ]
  },
  {
   "cell_type": "code",
   "execution_count": 2,
   "id": "930de57c",
   "metadata": {},
   "outputs": [
    {
     "ename": "NameError",
     "evalue": "name 'Panchavati' is not defined",
     "output_type": "error",
     "traceback": [
      "\u001b[0;31m---------------------------------------------------------------------------\u001b[0m",
      "\u001b[0;31mNameError\u001b[0m                                 Traceback (most recent call last)",
      "\u001b[0;32m/var/folders/q2/_3pmb8_51nx809jr5s1z96cc0000gn/T/ipykernel_4994/961246273.py\u001b[0m in \u001b[0;36m<module>\u001b[0;34m\u001b[0m\n\u001b[0;32m----> 1\u001b[0;31m \u001b[0mprint\u001b[0m\u001b[0;34m(\u001b[0m\u001b[0mPanchavati\u001b[0m\u001b[0;34m)\u001b[0m\u001b[0;34m\u001b[0m\u001b[0;34m\u001b[0m\u001b[0m\n\u001b[0m",
      "\u001b[0;31mNameError\u001b[0m: name 'Panchavati' is not defined"
     ]
    }
   ],
   "source": [
    "print(Panchavati)"
   ]
  },
  {
   "cell_type": "code",
   "execution_count": 3,
   "id": "d28d197c",
   "metadata": {},
   "outputs": [
    {
     "ename": "SyntaxError",
     "evalue": "Missing parentheses in call to 'print'. Did you mean print(\"Panchavati\")? (1356628247.py, line 1)",
     "output_type": "error",
     "traceback": [
      "\u001b[0;36m  File \u001b[0;32m\"/var/folders/q2/_3pmb8_51nx809jr5s1z96cc0000gn/T/ipykernel_4994/1356628247.py\"\u001b[0;36m, line \u001b[0;32m1\u001b[0m\n\u001b[0;31m    print \"Panchavati\"\u001b[0m\n\u001b[0m          ^\u001b[0m\n\u001b[0;31mSyntaxError\u001b[0m\u001b[0;31m:\u001b[0m Missing parentheses in call to 'print'. Did you mean print(\"Panchavati\")?\n"
     ]
    }
   ],
   "source": [
    "print \"Panchavati\""
   ]
  },
  {
   "cell_type": "code",
   "execution_count": 4,
   "id": "680597c9",
   "metadata": {},
   "outputs": [
    {
     "ename": "SyntaxError",
     "evalue": "Missing parentheses in call to 'print'. Did you mean print('Panchavati')? (3902393233.py, line 1)",
     "output_type": "error",
     "traceback": [
      "\u001b[0;36m  File \u001b[0;32m\"/var/folders/q2/_3pmb8_51nx809jr5s1z96cc0000gn/T/ipykernel_4994/3902393233.py\"\u001b[0;36m, line \u001b[0;32m1\u001b[0m\n\u001b[0;31m    print 'Panchavati'\u001b[0m\n\u001b[0m          ^\u001b[0m\n\u001b[0;31mSyntaxError\u001b[0m\u001b[0;31m:\u001b[0m Missing parentheses in call to 'print'. Did you mean print('Panchavati')?\n"
     ]
    }
   ],
   "source": [
    "print 'Panchavati'"
   ]
  },
  {
   "cell_type": "code",
   "execution_count": 5,
   "id": "aaa22470",
   "metadata": {},
   "outputs": [
    {
     "ename": "SyntaxError",
     "evalue": "invalid syntax (1648570426.py, line 1)",
     "output_type": "error",
     "traceback": [
      "\u001b[0;36m  File \u001b[0;32m\"/var/folders/q2/_3pmb8_51nx809jr5s1z96cc0000gn/T/ipykernel_4994/1648570426.py\"\u001b[0;36m, line \u001b[0;32m1\u001b[0m\n\u001b[0;31m    print(\"kiran panchavati\") print(\" splunk consultant \")\u001b[0m\n\u001b[0m                              ^\u001b[0m\n\u001b[0;31mSyntaxError\u001b[0m\u001b[0;31m:\u001b[0m invalid syntax\n"
     ]
    }
   ],
   "source": [
    "print(\"kiran panchavati\") print(\" splunk consultant \")"
   ]
  },
  {
   "cell_type": "code",
   "execution_count": 8,
   "id": "f1455f69",
   "metadata": {},
   "outputs": [
    {
     "name": "stdout",
     "output_type": "stream",
     "text": [
      "kiran panchavati\n",
      "splunk professional services consultant \n"
     ]
    }
   ],
   "source": [
    "print(\"kiran panchavati\") \n",
    "print(\"splunk professional services consultant \")"
   ]
  },
  {
   "cell_type": "code",
   "execution_count": 9,
   "id": "397d8e82",
   "metadata": {},
   "outputs": [
    {
     "name": "stdout",
     "output_type": "stream",
     "text": [
      "The itsy bitsy spider\n",
      "climbed up the waterspout.\n",
      "\n",
      "Down came the rain\n",
      "and washed the spider out.\n"
     ]
    }
   ],
   "source": [
    "print(\"The itsy bitsy spider\\nclimbed up the waterspout.\")\n",
    "print()\n",
    "print(\"Down came the rain\\nand washed the spider out.\")"
   ]
  },
  {
   "cell_type": "code",
   "execution_count": 10,
   "id": "e51faa0c",
   "metadata": {},
   "outputs": [
    {
     "name": "stdout",
     "output_type": "stream",
     "text": [
      "The itsy bitsy spider climbed up the waterspout.\n"
     ]
    }
   ],
   "source": [
    "print(\"The itsy bitsy spider\" , \"climbed up\" , \"the waterspout.\")"
   ]
  },
  {
   "cell_type": "code",
   "execution_count": 12,
   "id": "09515816",
   "metadata": {},
   "outputs": [
    {
     "name": "stdout",
     "output_type": "stream",
     "text": [
      "My name is Python. Monty Python.\n",
      "My name is Panchavati Kiran From Dubai\n"
     ]
    }
   ],
   "source": [
    "print(\"My name is\", \"Python.\", end=\" \")\n",
    "print(\"Monty Python.\")\n",
    "print(\"My name is Panchavati Kiran\", end= \" \")\n",
    "print(\"From Dubai\")"
   ]
  },
  {
   "cell_type": "markdown",
   "id": "622fd0d3",
   "metadata": {},
   "source": [
    "# 2.1.12   LAB   The print() function and its arguments"
   ]
  },
  {
   "cell_type": "markdown",
   "id": "1f01116e",
   "metadata": {},
   "source": [
    "Scenario\n",
    "\n",
    "Modify the first line of code in the editor, using the sep and end keywords, to match the expected output. Use the two print() functions in the editor.\n",
    "\n",
    "Don't change anything in the second print() invocation.\n",
    "\n"
   ]
  },
  {
   "cell_type": "code",
   "execution_count": 14,
   "id": "71bf32a8",
   "metadata": {},
   "outputs": [
    {
     "name": "stdout",
     "output_type": "stream",
     "text": [
      "Programming***Essentials***in Python\n"
     ]
    }
   ],
   "source": [
    "# Expected output : Programming***Essentials***in...Python\n",
    "\n",
    "print(\"Programming\",\"Essentials\",\"in\", sep=\"***\", end=\" \")\n",
    "print(\"Python\")\n"
   ]
  },
  {
   "cell_type": "code",
   "execution_count": 15,
   "id": "3223697c",
   "metadata": {},
   "outputs": [
    {
     "name": "stdout",
     "output_type": "stream",
     "text": [
      "83\n"
     ]
    }
   ],
   "source": [
    "print(0o123)"
   ]
  },
  {
   "cell_type": "code",
   "execution_count": 16,
   "id": "5d6a7470",
   "metadata": {},
   "outputs": [
    {
     "name": "stdout",
     "output_type": "stream",
     "text": [
      "291\n"
     ]
    }
   ],
   "source": [
    "print(0x123)"
   ]
  },
  {
   "cell_type": "code",
   "execution_count": 17,
   "id": "3cdd9f30",
   "metadata": {},
   "outputs": [
    {
     "name": "stdout",
     "output_type": "stream",
     "text": [
      "2\n"
     ]
    }
   ],
   "source": [
    "print(2)"
   ]
  },
  {
   "cell_type": "code",
   "execution_count": 18,
   "id": "f0939b95",
   "metadata": {},
   "outputs": [
    {
     "name": "stdout",
     "output_type": "stream",
     "text": [
      "2.0\n"
     ]
    }
   ],
   "source": [
    "print(2.0)"
   ]
  },
  {
   "cell_type": "code",
   "execution_count": 19,
   "id": "085480cb",
   "metadata": {},
   "outputs": [
    {
     "name": "stdout",
     "output_type": "stream",
     "text": [
      "0.2\n"
     ]
    }
   ],
   "source": [
    "print(.2)"
   ]
  },
  {
   "cell_type": "code",
   "execution_count": 20,
   "id": "e21fdac3",
   "metadata": {},
   "outputs": [
    {
     "name": "stdout",
     "output_type": "stream",
     "text": [
      "I like \"Monty Python\"\n"
     ]
    }
   ],
   "source": [
    "print(\"I like \\\"Monty Python\\\"\")"
   ]
  },
  {
   "cell_type": "markdown",
   "id": "f2886b1a",
   "metadata": {},
   "source": [
    "# 2.2.6   LAB   Python literals - strings"
   ]
  },
  {
   "cell_type": "markdown",
   "id": "cb14f192",
   "metadata": {},
   "source": [
    "Scenario:\n",
    "Write a one-line piece of code, using the print() function, as well as the newline and escape characters, to match the expected result outputted on three lines"
   ]
  },
  {
   "cell_type": "markdown",
   "id": "07336705",
   "metadata": {},
   "source": [
    "\"I'm\"\n",
    "\"\"learning\"\"\n",
    "\"\"\"Python\"\"\""
   ]
  },
  {
   "cell_type": "code",
   "execution_count": null,
   "id": "3040d7a8",
   "metadata": {},
   "outputs": [],
   "source": []
  },
  {
   "cell_type": "code",
   "execution_count": 36,
   "id": "e3cb6ede",
   "metadata": {},
   "outputs": [
    {
     "name": "stdout",
     "output_type": "stream",
     "text": [
      "I'm,\n",
      "learning\n",
      "python\n"
     ]
    }
   ],
   "source": [
    "print(\"I'm,\\nlearning\\npython\")"
   ]
  },
  {
   "cell_type": "code",
   "execution_count": null,
   "id": "5accf330",
   "metadata": {},
   "outputs": [],
   "source": []
  }
 ],
 "metadata": {
  "kernelspec": {
   "display_name": "Python 3 (ipykernel)",
   "language": "python",
   "name": "python3"
  },
  "language_info": {
   "codemirror_mode": {
    "name": "ipython",
    "version": 3
   },
   "file_extension": ".py",
   "mimetype": "text/x-python",
   "name": "python",
   "nbconvert_exporter": "python",
   "pygments_lexer": "ipython3",
   "version": "3.9.7"
  }
 },
 "nbformat": 4,
 "nbformat_minor": 5
}
