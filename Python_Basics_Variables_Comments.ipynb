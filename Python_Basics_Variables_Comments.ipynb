{
 "cells": [
  {
   "cell_type": "markdown",
   "id": "58bdcb36",
   "metadata": {},
   "source": [
    "## Variables"
   ]
  },
  {
   "cell_type": "markdown",
   "id": "8c8b1198",
   "metadata": {},
   "source": [
    "1. It is the name of the memory cell.\n",
    "2. This is used to store the value. \n",
    "3. A variable can store only one value at a time. ( latest value ) "
   ]
  },
  {
   "cell_type": "markdown",
   "id": "a4d88e8f",
   "metadata": {},
   "source": [
    "Example"
   ]
  },
  {
   "cell_type": "markdown",
   "id": "6e084376",
   "metadata": {},
   "source": [
    "a = 10 # 'a' is the variable here, and '10' is the value stored in that variable. "
   ]
  },
  {
   "cell_type": "code",
   "execution_count": 19,
   "id": "236b70e9",
   "metadata": {},
   "outputs": [
    {
     "name": "stdout",
     "output_type": "stream",
     "text": [
      "10\n"
     ]
    }
   ],
   "source": [
    "a = 10 \n",
    "print(a)"
   ]
  },
  {
   "cell_type": "code",
   "execution_count": 20,
   "id": "25520a72",
   "metadata": {},
   "outputs": [
    {
     "name": "stdout",
     "output_type": "stream",
     "text": [
      "1994\n"
     ]
    }
   ],
   "source": [
    "b = 1994\n",
    "print(b)"
   ]
  },
  {
   "cell_type": "code",
   "execution_count": 22,
   "id": "d4ff2806",
   "metadata": {},
   "outputs": [
    {
     "name": "stdout",
     "output_type": "stream",
     "text": [
      "100\n"
     ]
    }
   ],
   "source": [
    "a = 100\n",
    "print(a) "
   ]
  },
  {
   "cell_type": "markdown",
   "id": "b110fbe1",
   "metadata": {},
   "source": [
    "If you notice here, we have created variable called 'a' and stored first value as '10' and again we stored the \"100\" value in the same variable, but variable took the latest value and printed the output. "
   ]
  },
  {
   "cell_type": "code",
   "execution_count": 24,
   "id": "04d34acd",
   "metadata": {},
   "outputs": [
    {
     "name": "stdout",
     "output_type": "stream",
     "text": [
      "the value of a is: 25\n",
      "the value of b is: 26\n"
     ]
    }
   ],
   "source": [
    "a = 25\n",
    "b = 26 \n",
    "\n",
    "print(\"the value of a is:\", a)\n",
    "print(\"the value of b is:\", b)"
   ]
  },
  {
   "cell_type": "code",
   "execution_count": 27,
   "id": "e7d24aa1",
   "metadata": {},
   "outputs": [
    {
     "name": "stdout",
     "output_type": "stream",
     "text": [
      "30\n"
     ]
    }
   ],
   "source": [
    "sum1 = 10\n",
    "sum2 = 20\n",
    "sum3 = sum1 + sum2\n",
    "print(sum3)"
   ]
  },
  {
   "cell_type": "markdown",
   "id": "87731a6b",
   "metadata": {},
   "source": [
    "In the  instruction a=25, is called as an \"Assignment operator\"."
   ]
  },
  {
   "cell_type": "markdown",
   "id": "86169e4b",
   "metadata": {},
   "source": [
    "Assignment can be done in 2 ways. \n",
    "\n",
    "1. Assigning single value to multiple variables.\n",
    "2. Assigning multiple values to multiple variables. \n",
    "\n",
    "Example 1 : Assigning single value to multiple variables.\n",
    "    \n",
    "a=b=c=20"
   ]
  },
  {
   "cell_type": "code",
   "execution_count": 28,
   "id": "f5540efe",
   "metadata": {},
   "outputs": [
    {
     "name": "stdout",
     "output_type": "stream",
     "text": [
      "20\n",
      "20\n",
      "20\n"
     ]
    }
   ],
   "source": [
    "a=b=c=20\n",
    "\n",
    "print(a)\n",
    "print(b)\n",
    "print(c)"
   ]
  },
  {
   "cell_type": "markdown",
   "id": "1bc65f7e",
   "metadata": {},
   "source": [
    "Example 2 : Assigning multiple values to multiple variables.\n",
    "\n",
    "s,t,u=30,40,50"
   ]
  },
  {
   "cell_type": "code",
   "execution_count": 30,
   "id": "5f888e25",
   "metadata": {},
   "outputs": [
    {
     "name": "stdout",
     "output_type": "stream",
     "text": [
      "30\n",
      "40\n",
      "50\n"
     ]
    }
   ],
   "source": [
    "s,t,u=30,40,50\n",
    "\n",
    "print(s)\n",
    "print(t)\n",
    "print(u)"
   ]
  },
  {
   "cell_type": "markdown",
   "id": "70fd5e37",
   "metadata": {},
   "source": [
    "# id()"
   ]
  },
  {
   "cell_type": "markdown",
   "id": "cdb4857b",
   "metadata": {},
   "source": [
    "id() is used to get the address of the variable.\n",
    "\n",
    "Syntax:\n",
    "\n",
    "id(VariableName)"
   ]
  },
  {
   "cell_type": "code",
   "execution_count": 32,
   "id": "1cecccdd",
   "metadata": {},
   "outputs": [
    {
     "data": {
      "text/plain": [
       "140621010553040"
      ]
     },
     "execution_count": 32,
     "metadata": {},
     "output_type": "execute_result"
    }
   ],
   "source": [
    "kiran = 9491311250\n",
    "\n",
    "id(kiran)"
   ]
  },
  {
   "cell_type": "code",
   "execution_count": 33,
   "id": "4298f2a8",
   "metadata": {},
   "outputs": [
    {
     "data": {
      "text/plain": [
       "140621010553424"
      ]
     },
     "execution_count": 33,
     "metadata": {},
     "output_type": "execute_result"
    }
   ],
   "source": [
    "kiran = +971521217394\n",
    "\n",
    "id(kiran)"
   ]
  },
  {
   "cell_type": "code",
   "execution_count": 53,
   "id": "4dad81bd",
   "metadata": {},
   "outputs": [
    {
     "name": "stdout",
     "output_type": "stream",
     "text": [
      "140621257503280\n",
      "140621257503408\n"
     ]
    }
   ],
   "source": [
    "nandu=1994\n",
    "kiran=1994\n",
    "\n",
    "print(id(nandu))\n",
    "print(id(kiran))"
   ]
  },
  {
   "cell_type": "code",
   "execution_count": 52,
   "id": "c0e53ef7",
   "metadata": {},
   "outputs": [
    {
     "name": "stdout",
     "output_type": "stream",
     "text": [
      "140621524489680\n",
      "140621524492944\n"
     ]
    }
   ],
   "source": [
    "fn=100\n",
    "ln =200\n",
    "\n",
    "print(id(fn))\n",
    "print(id(ln))"
   ]
  },
  {
   "cell_type": "markdown",
   "id": "764d1041",
   "metadata": {},
   "source": [
    "========================\n",
    "\n",
    "\n",
    "Rules to be followed to declare variables:\n",
    "\n",
    "1)Should start with [a-z][A-Z] _\n",
    "\n",
    "2)Variable names should not contain any special character(except _)\n",
    "\n",
    "3)Variable names are case sensitive.\n",
    "\n",
    "4)Variable names should not be any keyword.\n",
    "\n",
    "==========================="
   ]
  },
  {
   "cell_type": "code",
   "execution_count": 50,
   "id": "ebf347fe",
   "metadata": {},
   "outputs": [
    {
     "name": "stdout",
     "output_type": "stream",
     "text": [
      "Python keywords are...\n",
      "['False', 'None', 'True', '__peg_parser__', 'and', 'as', 'assert', 'async', 'await', 'break', 'class', 'continue', 'def', 'del', 'elif', 'else', 'except', 'finally', 'for', 'from', 'global', 'if', 'import', 'in', 'is', 'lambda', 'nonlocal', 'not', 'or', 'pass', 'raise', 'return', 'try', 'while', 'with', 'yield']\n"
     ]
    }
   ],
   "source": [
    "# Python program to print the list of all keywords\n",
    "\n",
    "# importing the module\n",
    "import keyword\n",
    "\n",
    "# printing the keywords\n",
    "print(\"Python keywords are...\")\n",
    "print(keyword.kwlist)"
   ]
  },
  {
   "cell_type": "markdown",
   "id": "cf8d8a56",
   "metadata": {},
   "source": [
    "# Comments"
   ]
  },
  {
   "cell_type": "markdown",
   "id": "ae89ff20",
   "metadata": {},
   "source": [
    "What ever we do write under comments,that will not be considered for execution.\n",
    "\n",
    "\n",
    "Python supports two types of comments:\n",
    "\n",
    "1) Single line comment:\n",
    "Used to comment only one line.It is done by using # .\n",
    "\n",
    "Eg:\n",
    "#single line comment  \n",
    "print(\"Hello Python\") \n",
    "\n",
    "output:\n",
    "Hello Python\n",
    "\n",
    "2) Multi lined Comment:\n",
    "This is used to comment multiple lines at a time.\n",
    "Multi line comment can be given inside triple quotes or double triple \n",
    "quotes.\n",
    "\n",
    "eg:\n",
    "\n",
    "''' This \n",
    "    Is \n",
    "    Multipline comment\n",
    "'''  \n",
    "eg:\n",
    "\n",
    "\"\"\"\n",
    "This is also a\n",
    "perfect example of\n",
    "multi-line comments\n",
    "\"\"\"\n",
    "\n",
    "''' \n",
    "    ====>triple quotes\n",
    "\n",
    "'''\n",
    "\n",
    "\n",
    "\"\"\"\n",
    "\n",
    "   =====>double triple quotes\n",
    "\n",
    "\"\"\"\n"
   ]
  },
  {
   "cell_type": "markdown",
   "id": "a74a3acb",
   "metadata": {},
   "source": [
    "Example for single line comment."
   ]
  },
  {
   "cell_type": "markdown",
   "id": "23ad5c5a",
   "metadata": {},
   "source": [
    "#e = 20  single line comment"
   ]
  },
  {
   "cell_type": "markdown",
   "id": "65b74c0e",
   "metadata": {},
   "source": [
    "Example for multi line comment."
   ]
  },
  {
   "cell_type": "markdown",
   "id": "a203ddbe",
   "metadata": {},
   "source": [
    "\"\"\"\n",
    "\n",
    "abc = 2506\n",
    "bcd = 2605\n",
    "\n",
    "\"\"\""
   ]
  },
  {
   "cell_type": "markdown",
   "id": "50e7a242",
   "metadata": {},
   "source": [
    "'''\n",
    "\n",
    "Good morning\n",
    "\n",
    "'''"
   ]
  },
  {
   "cell_type": "code",
   "execution_count": null,
   "id": "8519e53c",
   "metadata": {},
   "outputs": [],
   "source": []
  },
  {
   "cell_type": "code",
   "execution_count": null,
   "id": "228ccf01",
   "metadata": {},
   "outputs": [],
   "source": []
  }
 ],
 "metadata": {
  "kernelspec": {
   "display_name": "Python 3 (ipykernel)",
   "language": "python",
   "name": "python3"
  },
  "language_info": {
   "codemirror_mode": {
    "name": "ipython",
    "version": 3
   },
   "file_extension": ".py",
   "mimetype": "text/x-python",
   "name": "python",
   "nbconvert_exporter": "python",
   "pygments_lexer": "ipython3",
   "version": "3.9.7"
  }
 },
 "nbformat": 4,
 "nbformat_minor": 5
}
